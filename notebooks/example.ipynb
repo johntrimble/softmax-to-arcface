{
 "cells": [
  {
   "cell_type": "markdown",
   "id": "e2e8c391",
   "metadata": {},
   "source": [
    "# MNIST Download and Simple CNN Training\n",
    "\n",
    "This notebook will:\n",
    "\n",
    "1. Download the MNIST dataset to the `/data` directory.\n",
    "2. Train a simple convolutional neural network (CNN) on the MNIST dataset using PyTorch."
   ]
  },
  {
   "cell_type": "code",
   "execution_count": null,
   "id": "05e7e139",
   "metadata": {},
   "outputs": [],
   "source": [
    "# Download MNIST to /data using torchvision\n",
    "\n",
    "import os\n",
    "from torchvision import datasets\n",
    "\n",
    "# Dataset directory\n",
    "DATASET_DIR = '/data'\n",
    "\n",
    "# Ensure /data directory exists\n",
    "os.makedirs(DATASET_DIR, exist_ok=True)\n",
    "\n",
    "# Download training and test sets\n",
    "train_dataset = datasets.MNIST(DATASET_DIR, train=True, download=True)\n",
    "test_dataset = datasets.MNIST(DATASET_DIR, train=False, download=True)\n",
    "\n",
    "print(f\"Downloaded MNIST to {DATASET_DIR}. Train size: {len(train_dataset)}, Test size: {len(test_dataset)}\")"
   ]
  },
  {
   "cell_type": "code",
   "execution_count": null,
   "id": "5e0625c0",
   "metadata": {},
   "outputs": [],
   "source": [
    "# Define a simple CNN for MNIST\n",
    "import torch\n",
    "import torch.nn as nn\n",
    "import torch.nn.functional as F\n",
    "\n",
    "class SimpleCNN(nn.Module):\n",
    "    def __init__(self):\n",
    "        super().__init__()\n",
    "        self.conv1 = nn.Conv2d(1, 32, 3, 1)\n",
    "        self.conv2 = nn.Conv2d(32, 64, 3, 1)\n",
    "        self.fc1 = nn.Linear(9216, 128)\n",
    "        self.fc2 = nn.Linear(128, 10)\n",
    "\n",
    "    def forward(self, x):\n",
    "        x = self.conv1(x)\n",
    "        x = F.relu(x)\n",
    "        x = self.conv2(x)\n",
    "        x = F.relu(x)\n",
    "        x = F.max_pool2d(x, 2)\n",
    "        x = torch.flatten(x, 1)\n",
    "        x = self.fc1(x)\n",
    "        x = F.relu(x)\n",
    "        x = self.fc2(x)\n",
    "        return x"
   ]
  },
  {
   "cell_type": "code",
   "execution_count": null,
   "id": "84211239",
   "metadata": {},
   "outputs": [],
   "source": [
    "# Set up DataLoader and training utilities\n",
    "import torch.optim as optim\n",
    "from torch.utils.data import DataLoader\n",
    "from torchvision import transforms\n",
    "\n",
    "# Transform: convert to tensor and normalize\n",
    "transform = transforms.Compose([\n",
    "    transforms.ToTensor(),\n",
    "    transforms.Normalize((0.1307,), (0.3081,))\n",
    "])\n",
    "\n",
    "# Reload datasets with transform\n",
    "train_dataset = datasets.MNIST(DATASET_DIR, train=True, download=False, transform=transform)\n",
    "test_dataset = datasets.MNIST(DATASET_DIR, train=False, download=False, transform=transform)\n",
    "\n",
    "train_loader = DataLoader(train_dataset, batch_size=64, shuffle=True)\n",
    "test_loader = DataLoader(test_dataset, batch_size=1000, shuffle=False)\n",
    "\n",
    "device = torch.device('cuda' if torch.cuda.is_available() else 'cpu')\n",
    "model = SimpleCNN().to(device)\n",
    "optimizer = optim.Adam(model.parameters(), lr=0.001)\n",
    "criterion = nn.CrossEntropyLoss()"
   ]
  },
  {
   "cell_type": "code",
   "execution_count": null,
   "id": "0161adb9",
   "metadata": {},
   "outputs": [],
   "source": [
    "# Train the CNN for 1 epoch and evaluate on test set\n",
    "for epoch in range(1):\n",
    "    model.train()\n",
    "    total_loss = 0\n",
    "    for data, target in train_loader:\n",
    "        data, target = data.to(device), target.to(device)\n",
    "        optimizer.zero_grad()\n",
    "        output = model(data)\n",
    "        loss = criterion(output, target)\n",
    "        loss.backward()\n",
    "        optimizer.step()\n",
    "        total_loss += loss.item()\n",
    "    print(f\"Epoch {epoch+1}, Training loss: {total_loss/len(train_loader):.4f}\")\n",
    "\n",
    "# Evaluate on test set\n",
    "model.eval()\n",
    "correct = 0\n",
    "with torch.no_grad():\n",
    "    for data, target in test_loader:\n",
    "        data, target = data.to(device), target.to(device)\n",
    "        output = model(data)\n",
    "        pred = output.argmax(dim=1, keepdim=True)\n",
    "        correct += pred.eq(target.view_as(pred)).sum().item()\n",
    "accuracy = 100. * correct / len(test_loader.dataset)\n",
    "print(f\"Test set accuracy: {accuracy:.2f}%\")"
   ]
  }
 ],
 "metadata": {
  "kernelspec": {
   "display_name": "venv",
   "language": "python",
   "name": "python3"
  },
  "language_info": {
   "codemirror_mode": {
    "name": "ipython",
    "version": 3
   },
   "file_extension": ".py",
   "mimetype": "text/x-python",
   "name": "python",
   "nbconvert_exporter": "python",
   "pygments_lexer": "ipython3",
   "version": "3.11.13"
  }
 },
 "nbformat": 4,
 "nbformat_minor": 5
}
